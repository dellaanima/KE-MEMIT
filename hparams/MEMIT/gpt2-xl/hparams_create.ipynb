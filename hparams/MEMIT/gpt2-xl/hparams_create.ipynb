{
 "cells": [
  {
   "cell_type": "code",
   "execution_count": 1,
   "metadata": {},
   "outputs": [],
   "source": [
    "import json\n",
    "\n",
    "# 순차적으로 4개 또는 2개의 레이어 조합을 생성하는 함수\n",
    "def generate_json_for_combinations(start_layer, end_layer):\n",
    "    combinations = []\n",
    "    step_sizes = [4, 2]  # 우선 순위에 따라 4개 또는 2개 레이어를 선택\n",
    "    for step_size in step_sizes:\n",
    "        for i in range(start_layer, end_layer, step_size):\n",
    "            if i + step_size <= end_layer:\n",
    "                combination = list(range(i, i + step_size))\n",
    "                combinations.append(combination)\n",
    "    return combinations\n",
    "\n",
    "# 생성된 조합을 이용하여 JSON 파일 생성하는 함수\n",
    "def generate_json_file(layers_combinations, filename):\n",
    "    for i, combination in enumerate(layers_combinations):\n",
    "        data = {\n",
    "            \"layers\": combination,\n",
    "            \"clamp_norm_factor\": 0.75,\n",
    "            \"layer_selection\": \"all\",\n",
    "            \"fact_token\": \"subject_last\",\n",
    "            \"v_num_grad_steps\": 20,\n",
    "            \"v_lr\": 5e-1,\n",
    "            \"v_loss_layer\": 47,\n",
    "            \"v_weight_decay\": 0.5,\n",
    "            \"kl_factor\": 0.0625,\n",
    "            \"mom2_adjustment\": True,\n",
    "            \"mom2_update_weight\": 20000,\n",
    "            \"rewrite_module_tmp\": \"transformer.h.{}.mlp.c_proj\",\n",
    "            \"layer_module_tmp\": \"transformer.h.{}\",\n",
    "            \"mlp_module_tmp\": \"transformer.h.{}.mlp\",\n",
    "            \"attn_module_tmp\": \"transformer.h.{}.attn\",\n",
    "            \"ln_f_module\": \"transformer.ln_f\",\n",
    "            \"lm_head_module\": \"transformer.wte\",\n",
    "            \"mom2_dataset\": \"wikipedia\",\n",
    "            \"mom2_n_samples\": 100000,\n",
    "            \"mom2_dtype\": \"float32\"\n",
    "        }\n",
    "        with open(f\"{filename}_{i}.json\", \"w\") as json_file:\n",
    "            json.dump(data, json_file, indent=4)\n",
    "\n",
    "# 시작 레이어와 끝 레이어 지정\n",
    "start_layer = 0\n",
    "end_layer = 47\n",
    "\n",
    "# 조합 생성\n",
    "combinations = generate_json_for_combinations(start_layer, end_layer)\n",
    "\n",
    "# JSON 파일 생성\n",
    "generate_json_file(combinations, \"layer_combinations\")\n"
   ]
  }
 ],
 "metadata": {
  "kernelspec": {
   "display_name": "Python 3 (ipykernel)",
   "language": "python",
   "name": "python3"
  },
  "language_info": {
   "codemirror_mode": {
    "name": "ipython",
    "version": 3
   },
   "file_extension": ".py",
   "mimetype": "text/x-python",
   "name": "python",
   "nbconvert_exporter": "python",
   "pygments_lexer": "ipython3",
   "version": "3.10.12"
  }
 },
 "nbformat": 4,
 "nbformat_minor": 2
}
